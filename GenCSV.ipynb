{
 "cells": [
  {
   "cell_type": "code",
   "execution_count": 29,
   "metadata": {},
   "outputs": [
    {
     "name": "stdout",
     "output_type": "stream",
     "text": [
      "2000 4000\n"
     ]
    }
   ],
   "source": [
    "import glob\n",
    "p = sorted(glob.glob(\"places/*.png\"))\n",
    "pm = sorted(glob.glob(\"placesMongrels/*.png\"))\n",
    "plen = len(p)\n",
    "pmlen = len(pm)\n",
    "print (plen, pmlen)"
   ]
  },
  {
   "cell_type": "code",
   "execution_count": 30,
   "metadata": {},
   "outputs": [],
   "source": [
    "f = open('placesData.csv','w')\n",
    "f.write(\"x_train\" + ',' + \"y_train\" +'\\n') #Give your csv text here.\n",
    "for i in range(0, plen):\n",
    "    f.write(p[i] + ',' +pm[i*2] +'\\n') #Give your csv text here.\n",
    "    f.write(p[i] + ',' +pm[i*2+1] +'\\n') #Give your csv text here.\n",
    "## Python will convert \\n to os.linesep\n",
    "f.close()\n"
   ]
  },
  {
   "cell_type": "code",
   "execution_count": null,
   "metadata": {},
   "outputs": [],
   "source": []
  },
  {
   "cell_type": "code",
   "execution_count": null,
   "metadata": {},
   "outputs": [],
   "source": []
  }
 ],
 "metadata": {
  "kernelspec": {
   "display_name": "Python 3",
   "language": "python",
   "name": "python3"
  },
  "language_info": {
   "codemirror_mode": {
    "name": "ipython",
    "version": 3
   },
   "file_extension": ".py",
   "mimetype": "text/x-python",
   "name": "python",
   "nbconvert_exporter": "python",
   "pygments_lexer": "ipython3",
   "version": "3.7.6"
  }
 },
 "nbformat": 4,
 "nbformat_minor": 4
}
